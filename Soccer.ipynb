{
 "cells": [
  {
   "cell_type": "code",
   "execution_count": 1,
   "metadata": {},
   "outputs": [],
   "source": [
    "import numpy as np\n",
    "import pandas as pd,gc\n",
    "\n",
    "#Advance-style plotting\n",
    "import seaborn as sns\n",
    "color =sns.color_palette()\n",
    "sns.set_style('darkgrid')\n",
    "\n",
    "from matplotlib import pyplot as plt"
   ]
  },
  {
   "cell_type": "code",
   "execution_count": 2,
   "metadata": {},
   "outputs": [
    {
     "data": {
      "text/html": [
       "<div>\n",
       "<style scoped>\n",
       "    .dataframe tbody tr th:only-of-type {\n",
       "        vertical-align: middle;\n",
       "    }\n",
       "\n",
       "    .dataframe tbody tr th {\n",
       "        vertical-align: top;\n",
       "    }\n",
       "\n",
       "    .dataframe thead th {\n",
       "        text-align: right;\n",
       "    }\n",
       "</style>\n",
       "<table border=\"1\" class=\"dataframe\">\n",
       "  <thead>\n",
       "    <tr style=\"text-align: right;\">\n",
       "      <th></th>\n",
       "      <th>Previous_SB_Wins</th>\n",
       "      <th>Number_Of_Wins_This_Season</th>\n",
       "      <th>Number_Of_First_Round_Draft_Picks</th>\n",
       "      <th>Team_Value</th>\n",
       "      <th>Playing_Style</th>\n",
       "      <th>Average_Player_Age</th>\n",
       "      <th>Number_Of_Injured_Players</th>\n",
       "      <th>Coach_Experience_Level</th>\n",
       "      <th>ID</th>\n",
       "    </tr>\n",
       "  </thead>\n",
       "  <tbody>\n",
       "    <tr>\n",
       "      <td>0</td>\n",
       "      <td>3</td>\n",
       "      <td>16</td>\n",
       "      <td>2</td>\n",
       "      <td>Above_Four_Billion</td>\n",
       "      <td>Relaxed</td>\n",
       "      <td>26</td>\n",
       "      <td>two</td>\n",
       "      <td>Intermediate</td>\n",
       "      <td>1</td>\n",
       "    </tr>\n",
       "    <tr>\n",
       "      <td>1</td>\n",
       "      <td>2</td>\n",
       "      <td>15</td>\n",
       "      <td>3</td>\n",
       "      <td>Less_Than_Four_Billion</td>\n",
       "      <td>Balanced</td>\n",
       "      <td>26</td>\n",
       "      <td>six</td>\n",
       "      <td>Advanced</td>\n",
       "      <td>5</td>\n",
       "    </tr>\n",
       "    <tr>\n",
       "      <td>2</td>\n",
       "      <td>2</td>\n",
       "      <td>10</td>\n",
       "      <td>1</td>\n",
       "      <td>Less_Than_Four_Billion</td>\n",
       "      <td>Balanced</td>\n",
       "      <td>27</td>\n",
       "      <td>nine</td>\n",
       "      <td>Beginner</td>\n",
       "      <td>6</td>\n",
       "    </tr>\n",
       "    <tr>\n",
       "      <td>3</td>\n",
       "      <td>3</td>\n",
       "      <td>14</td>\n",
       "      <td>3</td>\n",
       "      <td>Less_Than_Four_Billion</td>\n",
       "      <td>Balanced</td>\n",
       "      <td>26</td>\n",
       "      <td>seven</td>\n",
       "      <td>Intermediate</td>\n",
       "      <td>7</td>\n",
       "    </tr>\n",
       "    <tr>\n",
       "      <td>4</td>\n",
       "      <td>3</td>\n",
       "      <td>13</td>\n",
       "      <td>2</td>\n",
       "      <td>Less_Than_Four_Billion</td>\n",
       "      <td>Balanced</td>\n",
       "      <td>27</td>\n",
       "      <td>three</td>\n",
       "      <td>Intermediate</td>\n",
       "      <td>9</td>\n",
       "    </tr>\n",
       "  </tbody>\n",
       "</table>\n",
       "</div>"
      ],
      "text/plain": [
       "   Previous_SB_Wins  Number_Of_Wins_This_Season  \\\n",
       "0                 3                          16   \n",
       "1                 2                          15   \n",
       "2                 2                          10   \n",
       "3                 3                          14   \n",
       "4                 3                          13   \n",
       "\n",
       "   Number_Of_First_Round_Draft_Picks              Team_Value Playing_Style  \\\n",
       "0                                  2      Above_Four_Billion       Relaxed   \n",
       "1                                  3  Less_Than_Four_Billion      Balanced   \n",
       "2                                  1  Less_Than_Four_Billion      Balanced   \n",
       "3                                  3  Less_Than_Four_Billion      Balanced   \n",
       "4                                  2  Less_Than_Four_Billion      Balanced   \n",
       "\n",
       "   Average_Player_Age Number_Of_Injured_Players Coach_Experience_Level  ID  \n",
       "0                  26                       two           Intermediate   1  \n",
       "1                  26                       six               Advanced   5  \n",
       "2                  27                      nine               Beginner   6  \n",
       "3                  26                     seven           Intermediate   7  \n",
       "4                  27                     three           Intermediate   9  "
      ]
     },
     "execution_count": 2,
     "metadata": {},
     "output_type": "execute_result"
    }
   ],
   "source": [
    "train =pd.read_csv(\"train.csv\")\n",
    "test =pd.read_csv(\"test.csv\");test.head()"
   ]
  },
  {
   "cell_type": "code",
   "execution_count": 3,
   "metadata": {},
   "outputs": [
    {
     "data": {
      "text/plain": [
       "2    4118\n",
       "3    1653\n",
       "1     694\n",
       "4      29\n",
       "0       6\n",
       "Name: Number_Of_First_Round_Draft_Picks, dtype: int64"
      ]
     },
     "execution_count": 3,
     "metadata": {},
     "output_type": "execute_result"
    }
   ],
   "source": [
    "train['Number_Of_First_Round_Draft_Picks'].value_counts()"
   ]
  },
  {
   "cell_type": "code",
   "execution_count": 4,
   "metadata": {},
   "outputs": [
    {
     "data": {
      "text/plain": [
       "array(['Relaxed', 'Balanced', 'Aggressive_Defense', 'Aggressive_Offense'],\n",
       "      dtype=object)"
      ]
     },
     "execution_count": 4,
     "metadata": {},
     "output_type": "execute_result"
    }
   ],
   "source": [
    "test['Playing_Style'].unique()"
   ]
  },
  {
   "cell_type": "code",
   "execution_count": 5,
   "metadata": {},
   "outputs": [],
   "source": [
    "train['past_cup/current_win'] = train['Number_Of_Wins_This_Season'] + train['Previous_SB_Wins']\n",
    "test['past_cup/current_win'] = test['Number_Of_Wins_This_Season'] + test['Previous_SB_Wins']"
   ]
  },
  {
   "cell_type": "code",
   "execution_count": 6,
   "metadata": {},
   "outputs": [],
   "source": [
    "test['games_left'] = 32 - test['Number_Of_Wins_This_Season']\n",
    "train['games_left'] = 32 - train['Number_Of_Wins_This_Season']"
   ]
  },
  {
   "cell_type": "code",
   "execution_count": 7,
   "metadata": {},
   "outputs": [],
   "source": [
    "def rx(test):\n",
    "    if test['Number_Of_First_Round_Draft_Picks'] == 0 :\n",
    "        return 'might_not_win'\n",
    "    else:\n",
    "        return 'may_win'\n",
    "test['Round_Draft_class'] = test.apply(lambda test:rx(test), axis=1)"
   ]
  },
  {
   "cell_type": "code",
   "execution_count": 8,
   "metadata": {},
   "outputs": [],
   "source": [
    "def rx(train):\n",
    "    if train['Number_Of_First_Round_Draft_Picks'] == 0 :\n",
    "        return 'might_not_win'\n",
    "    else:\n",
    "        return 'may_win'\n",
    "train['Round_Draft_class'] = train.apply(lambda train:rx(train), axis=1)"
   ]
  },
  {
   "cell_type": "code",
   "execution_count": 9,
   "metadata": {},
   "outputs": [
    {
     "data": {
      "text/html": [
       "<div>\n",
       "<style scoped>\n",
       "    .dataframe tbody tr th:only-of-type {\n",
       "        vertical-align: middle;\n",
       "    }\n",
       "\n",
       "    .dataframe tbody tr th {\n",
       "        vertical-align: top;\n",
       "    }\n",
       "\n",
       "    .dataframe thead th {\n",
       "        text-align: right;\n",
       "    }\n",
       "</style>\n",
       "<table border=\"1\" class=\"dataframe\">\n",
       "  <thead>\n",
       "    <tr style=\"text-align: right;\">\n",
       "      <th></th>\n",
       "      <th>Won_Championship</th>\n",
       "      <th>Previous_SB_Wins</th>\n",
       "      <th>Number_Of_Wins_This_Season</th>\n",
       "      <th>Number_Of_First_Round_Draft_Picks</th>\n",
       "      <th>Team_Value</th>\n",
       "      <th>Playing_Style</th>\n",
       "      <th>Average_Player_Age</th>\n",
       "      <th>Number_Of_Injured_Players</th>\n",
       "      <th>Coach_Experience_Level</th>\n",
       "      <th>ID</th>\n",
       "      <th>past_cup/current_win</th>\n",
       "      <th>games_left</th>\n",
       "      <th>Round_Draft_class</th>\n",
       "    </tr>\n",
       "  </thead>\n",
       "  <tbody>\n",
       "    <tr>\n",
       "      <td>0</td>\n",
       "      <td>0</td>\n",
       "      <td>3</td>\n",
       "      <td>13</td>\n",
       "      <td>2</td>\n",
       "      <td>Less_Than_Four_Billion</td>\n",
       "      <td>Balanced</td>\n",
       "      <td>27</td>\n",
       "      <td>five</td>\n",
       "      <td>Intermediate</td>\n",
       "      <td>6056</td>\n",
       "      <td>16</td>\n",
       "      <td>19</td>\n",
       "      <td>may_win</td>\n",
       "    </tr>\n",
       "    <tr>\n",
       "      <td>1</td>\n",
       "      <td>0</td>\n",
       "      <td>2</td>\n",
       "      <td>14</td>\n",
       "      <td>2</td>\n",
       "      <td>Less_Than_Four_Billion</td>\n",
       "      <td>Aggressive_Offense</td>\n",
       "      <td>26</td>\n",
       "      <td>five</td>\n",
       "      <td>Intermediate</td>\n",
       "      <td>9702</td>\n",
       "      <td>16</td>\n",
       "      <td>18</td>\n",
       "      <td>may_win</td>\n",
       "    </tr>\n",
       "    <tr>\n",
       "      <td>2</td>\n",
       "      <td>1</td>\n",
       "      <td>2</td>\n",
       "      <td>13</td>\n",
       "      <td>1</td>\n",
       "      <td>Less_Than_Four_Billion</td>\n",
       "      <td>Aggressive_Defense</td>\n",
       "      <td>27</td>\n",
       "      <td>four</td>\n",
       "      <td>Intermediate</td>\n",
       "      <td>1745</td>\n",
       "      <td>15</td>\n",
       "      <td>19</td>\n",
       "      <td>may_win</td>\n",
       "    </tr>\n",
       "    <tr>\n",
       "      <td>3</td>\n",
       "      <td>0</td>\n",
       "      <td>2</td>\n",
       "      <td>12</td>\n",
       "      <td>2</td>\n",
       "      <td>Above_Four_Billion</td>\n",
       "      <td>Balanced</td>\n",
       "      <td>27</td>\n",
       "      <td>six</td>\n",
       "      <td>Intermediate</td>\n",
       "      <td>4757</td>\n",
       "      <td>14</td>\n",
       "      <td>20</td>\n",
       "      <td>may_win</td>\n",
       "    </tr>\n",
       "    <tr>\n",
       "      <td>4</td>\n",
       "      <td>0</td>\n",
       "      <td>1</td>\n",
       "      <td>15</td>\n",
       "      <td>2</td>\n",
       "      <td>Less_Than_Four_Billion</td>\n",
       "      <td>Balanced</td>\n",
       "      <td>26</td>\n",
       "      <td>five</td>\n",
       "      <td>Intermediate</td>\n",
       "      <td>7242</td>\n",
       "      <td>16</td>\n",
       "      <td>17</td>\n",
       "      <td>may_win</td>\n",
       "    </tr>\n",
       "  </tbody>\n",
       "</table>\n",
       "</div>"
      ],
      "text/plain": [
       "   Won_Championship  Previous_SB_Wins  Number_Of_Wins_This_Season  \\\n",
       "0                 0                 3                          13   \n",
       "1                 0                 2                          14   \n",
       "2                 1                 2                          13   \n",
       "3                 0                 2                          12   \n",
       "4                 0                 1                          15   \n",
       "\n",
       "   Number_Of_First_Round_Draft_Picks              Team_Value  \\\n",
       "0                                  2  Less_Than_Four_Billion   \n",
       "1                                  2  Less_Than_Four_Billion   \n",
       "2                                  1  Less_Than_Four_Billion   \n",
       "3                                  2      Above_Four_Billion   \n",
       "4                                  2  Less_Than_Four_Billion   \n",
       "\n",
       "        Playing_Style  Average_Player_Age Number_Of_Injured_Players  \\\n",
       "0            Balanced                  27                      five   \n",
       "1  Aggressive_Offense                  26                      five   \n",
       "2  Aggressive_Defense                  27                      four   \n",
       "3            Balanced                  27                       six   \n",
       "4            Balanced                  26                      five   \n",
       "\n",
       "  Coach_Experience_Level    ID  past_cup/current_win  games_left  \\\n",
       "0           Intermediate  6056                    16          19   \n",
       "1           Intermediate  9702                    16          18   \n",
       "2           Intermediate  1745                    15          19   \n",
       "3           Intermediate  4757                    14          20   \n",
       "4           Intermediate  7242                    16          17   \n",
       "\n",
       "  Round_Draft_class  \n",
       "0           may_win  \n",
       "1           may_win  \n",
       "2           may_win  \n",
       "3           may_win  \n",
       "4           may_win  "
      ]
     },
     "execution_count": 9,
     "metadata": {},
     "output_type": "execute_result"
    }
   ],
   "source": [
    "train.head()"
   ]
  },
  {
   "cell_type": "code",
   "execution_count": 10,
   "metadata": {},
   "outputs": [
    {
     "data": {
      "text/html": [
       "<div>\n",
       "<style scoped>\n",
       "    .dataframe tbody tr th:only-of-type {\n",
       "        vertical-align: middle;\n",
       "    }\n",
       "\n",
       "    .dataframe tbody tr th {\n",
       "        vertical-align: top;\n",
       "    }\n",
       "\n",
       "    .dataframe thead th {\n",
       "        text-align: right;\n",
       "    }\n",
       "</style>\n",
       "<table border=\"1\" class=\"dataframe\">\n",
       "  <thead>\n",
       "    <tr style=\"text-align: right;\">\n",
       "      <th></th>\n",
       "      <th>Won_Championship</th>\n",
       "      <th>Previous_SB_Wins</th>\n",
       "      <th>Number_Of_Wins_This_Season</th>\n",
       "      <th>Number_Of_First_Round_Draft_Picks</th>\n",
       "      <th>Team_Value</th>\n",
       "      <th>Playing_Style</th>\n",
       "      <th>Average_Player_Age</th>\n",
       "      <th>Number_Of_Injured_Players</th>\n",
       "      <th>Coach_Experience_Level</th>\n",
       "      <th>ID</th>\n",
       "      <th>past_cup/current_win</th>\n",
       "      <th>games_left</th>\n",
       "      <th>Round_Draft_class</th>\n",
       "    </tr>\n",
       "  </thead>\n",
       "  <tbody>\n",
       "    <tr>\n",
       "      <td>0</td>\n",
       "      <td>0</td>\n",
       "      <td>3</td>\n",
       "      <td>13</td>\n",
       "      <td>2</td>\n",
       "      <td>Less_Than_Four_Billion</td>\n",
       "      <td>Balanced</td>\n",
       "      <td>27</td>\n",
       "      <td>five</td>\n",
       "      <td>Intermediate</td>\n",
       "      <td>6056</td>\n",
       "      <td>16</td>\n",
       "      <td>19</td>\n",
       "      <td>may_win</td>\n",
       "    </tr>\n",
       "    <tr>\n",
       "      <td>1</td>\n",
       "      <td>0</td>\n",
       "      <td>2</td>\n",
       "      <td>14</td>\n",
       "      <td>2</td>\n",
       "      <td>Less_Than_Four_Billion</td>\n",
       "      <td>Aggressive_Offense</td>\n",
       "      <td>26</td>\n",
       "      <td>five</td>\n",
       "      <td>Intermediate</td>\n",
       "      <td>9702</td>\n",
       "      <td>16</td>\n",
       "      <td>18</td>\n",
       "      <td>may_win</td>\n",
       "    </tr>\n",
       "    <tr>\n",
       "      <td>2</td>\n",
       "      <td>1</td>\n",
       "      <td>2</td>\n",
       "      <td>13</td>\n",
       "      <td>1</td>\n",
       "      <td>Less_Than_Four_Billion</td>\n",
       "      <td>Aggressive_Defense</td>\n",
       "      <td>27</td>\n",
       "      <td>four</td>\n",
       "      <td>Intermediate</td>\n",
       "      <td>1745</td>\n",
       "      <td>15</td>\n",
       "      <td>19</td>\n",
       "      <td>may_win</td>\n",
       "    </tr>\n",
       "    <tr>\n",
       "      <td>3</td>\n",
       "      <td>0</td>\n",
       "      <td>2</td>\n",
       "      <td>12</td>\n",
       "      <td>2</td>\n",
       "      <td>Above_Four_Billion</td>\n",
       "      <td>Balanced</td>\n",
       "      <td>27</td>\n",
       "      <td>six</td>\n",
       "      <td>Intermediate</td>\n",
       "      <td>4757</td>\n",
       "      <td>14</td>\n",
       "      <td>20</td>\n",
       "      <td>may_win</td>\n",
       "    </tr>\n",
       "    <tr>\n",
       "      <td>4</td>\n",
       "      <td>0</td>\n",
       "      <td>1</td>\n",
       "      <td>15</td>\n",
       "      <td>2</td>\n",
       "      <td>Less_Than_Four_Billion</td>\n",
       "      <td>Balanced</td>\n",
       "      <td>26</td>\n",
       "      <td>five</td>\n",
       "      <td>Intermediate</td>\n",
       "      <td>7242</td>\n",
       "      <td>16</td>\n",
       "      <td>17</td>\n",
       "      <td>may_win</td>\n",
       "    </tr>\n",
       "    <tr>\n",
       "      <td>...</td>\n",
       "      <td>...</td>\n",
       "      <td>...</td>\n",
       "      <td>...</td>\n",
       "      <td>...</td>\n",
       "      <td>...</td>\n",
       "      <td>...</td>\n",
       "      <td>...</td>\n",
       "      <td>...</td>\n",
       "      <td>...</td>\n",
       "      <td>...</td>\n",
       "      <td>...</td>\n",
       "      <td>...</td>\n",
       "      <td>...</td>\n",
       "    </tr>\n",
       "    <tr>\n",
       "      <td>6495</td>\n",
       "      <td>0</td>\n",
       "      <td>1</td>\n",
       "      <td>14</td>\n",
       "      <td>2</td>\n",
       "      <td>Less_Than_Four_Billion</td>\n",
       "      <td>Aggressive_Defense</td>\n",
       "      <td>26</td>\n",
       "      <td>three</td>\n",
       "      <td>Intermediate</td>\n",
       "      <td>5568</td>\n",
       "      <td>15</td>\n",
       "      <td>18</td>\n",
       "      <td>may_win</td>\n",
       "    </tr>\n",
       "    <tr>\n",
       "      <td>6496</td>\n",
       "      <td>1</td>\n",
       "      <td>2</td>\n",
       "      <td>14</td>\n",
       "      <td>3</td>\n",
       "      <td>Less_Than_Four_Billion</td>\n",
       "      <td>Aggressive_Defense</td>\n",
       "      <td>27</td>\n",
       "      <td>seven</td>\n",
       "      <td>Intermediate</td>\n",
       "      <td>8301</td>\n",
       "      <td>16</td>\n",
       "      <td>18</td>\n",
       "      <td>may_win</td>\n",
       "    </tr>\n",
       "    <tr>\n",
       "      <td>6497</td>\n",
       "      <td>1</td>\n",
       "      <td>1</td>\n",
       "      <td>14</td>\n",
       "      <td>2</td>\n",
       "      <td>Less_Than_Four_Billion</td>\n",
       "      <td>Aggressive_Defense</td>\n",
       "      <td>27</td>\n",
       "      <td>five</td>\n",
       "      <td>Intermediate</td>\n",
       "      <td>2532</td>\n",
       "      <td>15</td>\n",
       "      <td>18</td>\n",
       "      <td>may_win</td>\n",
       "    </tr>\n",
       "    <tr>\n",
       "      <td>6498</td>\n",
       "      <td>0</td>\n",
       "      <td>1</td>\n",
       "      <td>14</td>\n",
       "      <td>2</td>\n",
       "      <td>Above_Four_Billion</td>\n",
       "      <td>Aggressive_Defense</td>\n",
       "      <td>26</td>\n",
       "      <td>six</td>\n",
       "      <td>Intermediate</td>\n",
       "      <td>6345</td>\n",
       "      <td>15</td>\n",
       "      <td>18</td>\n",
       "      <td>may_win</td>\n",
       "    </tr>\n",
       "    <tr>\n",
       "      <td>6499</td>\n",
       "      <td>0</td>\n",
       "      <td>1</td>\n",
       "      <td>12</td>\n",
       "      <td>2</td>\n",
       "      <td>Less_Than_Four_Billion</td>\n",
       "      <td>Balanced</td>\n",
       "      <td>27</td>\n",
       "      <td>eight</td>\n",
       "      <td>Intermediate</td>\n",
       "      <td>7238</td>\n",
       "      <td>13</td>\n",
       "      <td>20</td>\n",
       "      <td>may_win</td>\n",
       "    </tr>\n",
       "  </tbody>\n",
       "</table>\n",
       "<p>6494 rows × 13 columns</p>\n",
       "</div>"
      ],
      "text/plain": [
       "      Won_Championship  Previous_SB_Wins  Number_Of_Wins_This_Season  \\\n",
       "0                    0                 3                          13   \n",
       "1                    0                 2                          14   \n",
       "2                    1                 2                          13   \n",
       "3                    0                 2                          12   \n",
       "4                    0                 1                          15   \n",
       "...                ...               ...                         ...   \n",
       "6495                 0                 1                          14   \n",
       "6496                 1                 2                          14   \n",
       "6497                 1                 1                          14   \n",
       "6498                 0                 1                          14   \n",
       "6499                 0                 1                          12   \n",
       "\n",
       "      Number_Of_First_Round_Draft_Picks              Team_Value  \\\n",
       "0                                     2  Less_Than_Four_Billion   \n",
       "1                                     2  Less_Than_Four_Billion   \n",
       "2                                     1  Less_Than_Four_Billion   \n",
       "3                                     2      Above_Four_Billion   \n",
       "4                                     2  Less_Than_Four_Billion   \n",
       "...                                 ...                     ...   \n",
       "6495                                  2  Less_Than_Four_Billion   \n",
       "6496                                  3  Less_Than_Four_Billion   \n",
       "6497                                  2  Less_Than_Four_Billion   \n",
       "6498                                  2      Above_Four_Billion   \n",
       "6499                                  2  Less_Than_Four_Billion   \n",
       "\n",
       "           Playing_Style  Average_Player_Age Number_Of_Injured_Players  \\\n",
       "0               Balanced                  27                      five   \n",
       "1     Aggressive_Offense                  26                      five   \n",
       "2     Aggressive_Defense                  27                      four   \n",
       "3               Balanced                  27                       six   \n",
       "4               Balanced                  26                      five   \n",
       "...                  ...                 ...                       ...   \n",
       "6495  Aggressive_Defense                  26                     three   \n",
       "6496  Aggressive_Defense                  27                     seven   \n",
       "6497  Aggressive_Defense                  27                      five   \n",
       "6498  Aggressive_Defense                  26                       six   \n",
       "6499            Balanced                  27                     eight   \n",
       "\n",
       "     Coach_Experience_Level    ID  past_cup/current_win  games_left  \\\n",
       "0              Intermediate  6056                    16          19   \n",
       "1              Intermediate  9702                    16          18   \n",
       "2              Intermediate  1745                    15          19   \n",
       "3              Intermediate  4757                    14          20   \n",
       "4              Intermediate  7242                    16          17   \n",
       "...                     ...   ...                   ...         ...   \n",
       "6495           Intermediate  5568                    15          18   \n",
       "6496           Intermediate  8301                    16          18   \n",
       "6497           Intermediate  2532                    15          18   \n",
       "6498           Intermediate  6345                    15          18   \n",
       "6499           Intermediate  7238                    13          20   \n",
       "\n",
       "     Round_Draft_class  \n",
       "0              may_win  \n",
       "1              may_win  \n",
       "2              may_win  \n",
       "3              may_win  \n",
       "4              may_win  \n",
       "...                ...  \n",
       "6495           may_win  \n",
       "6496           may_win  \n",
       "6497           may_win  \n",
       "6498           may_win  \n",
       "6499           may_win  \n",
       "\n",
       "[6494 rows x 13 columns]"
      ]
     },
     "execution_count": 10,
     "metadata": {},
     "output_type": "execute_result"
    }
   ],
   "source": [
    "train.drop([807 , 1467,2664,3486, 3836 ,5409] ,axis=False)"
   ]
  },
  {
   "cell_type": "code",
   "execution_count": 11,
   "metadata": {},
   "outputs": [
    {
     "data": {
      "text/plain": [
       "Won_Championship                     0\n",
       "Previous_SB_Wins                     0\n",
       "Number_Of_Wins_This_Season           0\n",
       "Number_Of_First_Round_Draft_Picks    0\n",
       "Team_Value                           0\n",
       "Playing_Style                        0\n",
       "Average_Player_Age                   0\n",
       "Number_Of_Injured_Players            0\n",
       "Coach_Experience_Level               0\n",
       "ID                                   0\n",
       "past_cup/current_win                 0\n",
       "games_left                           0\n",
       "Round_Draft_class                    0\n",
       "dtype: int64"
      ]
     },
     "execution_count": 11,
     "metadata": {},
     "output_type": "execute_result"
    }
   ],
   "source": [
    "train.isnull().sum()"
   ]
  },
  {
   "cell_type": "code",
   "execution_count": 12,
   "metadata": {},
   "outputs": [
    {
     "data": {
      "text/plain": [
       "array(['Less_Than_Four_Billion', 'Above_Four_Billion',\n",
       "       'Less_Than_Three_Billion'], dtype=object)"
      ]
     },
     "execution_count": 12,
     "metadata": {},
     "output_type": "execute_result"
    }
   ],
   "source": [
    "train['Team_Value'].unique()"
   ]
  },
  {
   "cell_type": "code",
   "execution_count": 13,
   "metadata": {},
   "outputs": [],
   "source": [
    "test.drop(['ID'], axis=1, inplace=True)\n",
    "train.drop(['ID'], axis=1, inplace=True)"
   ]
  },
  {
   "cell_type": "code",
   "execution_count": 14,
   "metadata": {},
   "outputs": [
    {
     "data": {
      "text/plain": [
       "Previous_SB_Wins                      int64\n",
       "Number_Of_Wins_This_Season            int64\n",
       "Number_Of_First_Round_Draft_Picks     int64\n",
       "Team_Value                           object\n",
       "Playing_Style                        object\n",
       "Average_Player_Age                    int64\n",
       "Number_Of_Injured_Players            object\n",
       "Coach_Experience_Level               object\n",
       "past_cup/current_win                  int64\n",
       "games_left                            int64\n",
       "Round_Draft_class                    object\n",
       "dtype: object"
      ]
     },
     "execution_count": 14,
     "metadata": {},
     "output_type": "execute_result"
    }
   ],
   "source": [
    "test.dtypes"
   ]
  },
  {
   "cell_type": "code",
   "execution_count": 15,
   "metadata": {},
   "outputs": [
    {
     "name": "stdout",
     "output_type": "stream",
     "text": [
      "Not in Test Number_Of_Injured_Players  []\n",
      "Not in Train Number_Of_Injured_Players  []\n",
      "====================================\n",
      "Not in Test Number_Of_Injured_Players  []\n",
      "Not in Train Number_Of_Injured_Players  []\n",
      "====================================\n",
      "Not in Test Coach_Experience_Level  []\n",
      "Not in Train Coach_Experience_Level  []\n",
      "====================================\n",
      "Not in Test Team_Value  []\n",
      "Not in Train Team_Value  []\n",
      "====================================\n"
     ]
    }
   ],
   "source": [
    "## Compare_train_test_column\n",
    "\n",
    "for col in ['Number_Of_Injured_Players', 'Number_Of_Injured_Players','Coach_Experience_Level','Team_Value']:\n",
    "    train_col = train[col].unique()\n",
    "    test_col = test[col].unique()\n",
    "    \n",
    "    print ('Not in Test ' + col + ' ',[i  for i in train_col if i not in test_col])\n",
    "    print ('Not in Train ' + col + ' ',[i  for i in test_col  if i not in train_col])\n",
    "    print('==' * 18)"
   ]
  },
  {
   "cell_type": "code",
   "execution_count": 16,
   "metadata": {},
   "outputs": [],
   "source": [
    "#categorical and numerical columns into variables\n",
    "num_col = train.select_dtypes(include=np.number).columns\n",
    "cat_col = train.select_dtypes(exclude=np.number).columns"
   ]
  },
  {
   "cell_type": "code",
   "execution_count": 17,
   "metadata": {},
   "outputs": [
    {
     "data": {
      "text/plain": [
       "Index(['Won_Championship', 'Previous_SB_Wins', 'Number_Of_Wins_This_Season',\n",
       "       'Number_Of_First_Round_Draft_Picks', 'Average_Player_Age',\n",
       "       'past_cup/current_win', 'games_left'],\n",
       "      dtype='object')"
      ]
     },
     "execution_count": 17,
     "metadata": {},
     "output_type": "execute_result"
    }
   ],
   "source": [
    "num_col"
   ]
  },
  {
   "cell_type": "code",
   "execution_count": 18,
   "metadata": {},
   "outputs": [
    {
     "data": {
      "text/plain": [
       "Index(['Team_Value', 'Playing_Style', 'Number_Of_Injured_Players',\n",
       "       'Coach_Experience_Level', 'Round_Draft_class'],\n",
       "      dtype='object')"
      ]
     },
     "execution_count": 18,
     "metadata": {},
     "output_type": "execute_result"
    }
   ],
   "source": [
    "cat_col "
   ]
  },
  {
   "cell_type": "code",
   "execution_count": 19,
   "metadata": {},
   "outputs": [
    {
     "data": {
      "text/plain": [
       "<matplotlib.axes._subplots.AxesSubplot at 0x21dab6d5d88>"
      ]
     },
     "execution_count": 19,
     "metadata": {},
     "output_type": "execute_result"
    },
    {
     "data": {
      "image/png": "[encoded data removed]",
      "text/plain": [
       "<Figure size 576x360 with 1 Axes>"
      ]
     },
     "metadata": {},
     "output_type": "display_data"
    }
   ],
   "source": [
    "plt.figure(figsize=[8,5])\n",
    "sns.countplot(x= 'Won_Championship', hue ='Coach_Experience_Level', data=train)"
   ]
  },
  {
   "cell_type": "code",
   "execution_count": 20,
   "metadata": {},
   "outputs": [],
   "source": [
    "# 1 LABEL ENCODING\n",
    "\n",
    "def encode_LE(train,test,cols,verbose=True):\n",
    "    for col in cols:\n",
    "        df_comb = pd.concat([train[col],test[col]],axis=0)\n",
    "        df_comb,_ = df_comb.factorize(sort=True)\n",
    "        nm = col\n",
    "        if df_comb.max()>32000: \n",
    "            train[nm] = df_comb[:len(train)].astype('int32')\n",
    "            test[nm] = df_comb[len(train):].astype('int32')\n",
    "        else:\n",
    "            train[nm] = df_comb[:len(train)].astype('int16')\n",
    "            test[nm] = df_comb[len(train):].astype('int16')\n",
    "        del df_comb; x=gc.collect()\n",
    "        if verbose: print(nm,', ',end='')\n",
    "            \n",
    "            \n",
    "# 2 FREQUENCY ENCODING\n",
    "\n",
    "def encode_FE(train, test, cols, normalize = True, ext_train = None, ext_test= None):\n",
    "    norm = normalize\n",
    "    for col in cols:\n",
    "        if ext_train is None:\n",
    "            df = pd.concat([train[col],test[col]])\n",
    "            nm = col+'_FE'\n",
    "        else:\n",
    "            df = pd.concat([ext_train[col],ext_test[col]])\n",
    "            nm = \"rejected\"+\"_\"+ col +\"_FE\" \n",
    "        vc = df.value_counts(dropna=True, normalize=norm).to_dict()\n",
    "        vc[-1] = -1\n",
    "        train[nm] = train[col].map(vc)\n",
    "        train[nm] = train[nm].astype('float32')\n",
    "        test[nm] = test[col].map(vc)\n",
    "        test[nm] = test[nm].astype('float32')\n",
    "        train[nm].fillna(-999,inplace=True)\n",
    "        test[nm].fillna(-999,inplace=True)\n",
    "                \n",
    "        del df; x=gc.collect()\n",
    "        print(nm,', ',end='')\n",
    "\n",
    "        \n",
    "\n",
    "# 3 ADVANCE ENCODING\n",
    "        \n",
    "def encode_AG__2(group ,main_columns, aggregations, train_df=train, test_df=test, ext_src=None,\n",
    "              fillna=True, usena=False):\n",
    "    # AGGREGATION OF MAIN WITH UID FOR GIVEN STATISTICS\n",
    "    for main_column in main_columns:  \n",
    "            for agg_type in aggregations:\n",
    "                if ext_src is None: \n",
    "                    temp_df = pd.concat([train_df[group +[main_column]], test_df[group +[main_column]]])\n",
    "                    new_col_name = group[0]+\"_\"+group[1]+\"_\"+main_column+'_'+agg_type\n",
    "                                    \n",
    "                else:\n",
    "                    temp_df = ext_src.copy()\n",
    "                    new_col_name = \"ext_data\"+ \"_\"+group[0]+\"_\"+group[1]+\"_\"+main_column+'_'+agg_type\n",
    "                    \n",
    "                if usena: temp_df.loc[temp_df[main_column]==-1,main_column] = np.nan\n",
    "                temp_df = temp_df.groupby(group)[main_column].agg([agg_type]).reset_index(level=group).rename(\n",
    "                                                        columns={agg_type: new_col_name})\n",
    "                \n",
    "                \n",
    "\n",
    "\n",
    "                train_df[new_col_name] = pd.merge(train_df, temp_df, on=group, how='left')[new_col_name].astype('float32')\n",
    "                test_df[new_col_name]  = pd.merge(test_df, temp_df, on=group, how='left')[new_col_name].astype('float32')\n",
    "                \n",
    "                if fillna:\n",
    "                    train_df[new_col_name].fillna(-1,inplace=True)\n",
    "                    test_df[new_col_name].fillna(-1,inplace=True)\n",
    "                \n",
    "                print(\"'\"+new_col_name+\"'\",', ',end='')\n",
    "                \n",
    "                \n",
    "                \n",
    "# 4 GROUP AGGREGATION MEAN AND STD\n",
    "\n",
    "def encode_AG(uids ,main_columns, aggregations, train_df=train, test_df=test, ext_src=None,\n",
    "              fillna=True, usena=False):\n",
    "    # AGGREGATION OF MAIN WITH UID FOR GIVEN STATISTICS\n",
    "    for main_column in main_columns:  \n",
    "        for col in uids:\n",
    "            for agg_type in aggregations:\n",
    "                if ext_src is None: \n",
    "                    temp_df = pd.concat([train_df[[col, main_column]], test_df[[col,main_column]]])\n",
    "                    new_col_name = main_column+'_'+col+'_'+agg_type\n",
    "                                    \n",
    "                else:\n",
    "                    temp_df = ext_src.copy()\n",
    "                    new_col_name = \"ext_data\"+ \"_\"+main_column+'_'+col+'_'+agg_type\n",
    "\n",
    "                if usena: temp_df.loc[temp_df[main_column]==-1,main_column] = np.nan\n",
    "                temp_df = temp_df.groupby([col])[main_column].agg([agg_type]).reset_index().rename(\n",
    "                                                        columns={agg_type: new_col_name})\n",
    "\n",
    "                temp_df.index = list(temp_df[col])\n",
    "                temp_df = temp_df[new_col_name].to_dict()   \n",
    "\n",
    "                train_df[new_col_name] = train_df[col].map(temp_df).astype('float32')\n",
    "                test_df[new_col_name]  = test_df[col].map(temp_df).astype('float32')\n",
    "                \n",
    "                if fillna:\n",
    "                    train_df[new_col_name].fillna(-1,inplace=True)\n",
    "                    test_df[new_col_name].fillna(-1,inplace=True)\n",
    "                \n",
    "                print(\"'\"+new_col_name+\"'\",', ',end='')\n",
    "                \n",
    "                \n",
    "# 5 COMBINE FEATURES\n",
    "\n",
    "def encode_CB(col1,col2,df1=train,df2=test):\n",
    "    nm = col1+'_'+col2\n",
    "    df1[nm] = df1[col1].astype(str)+'_'+df1[col2].astype(str)\n",
    "    df2[nm] = df2[col1].astype(str)+'_'+df2[col2].astype(str) \n",
    "    print(nm,', ',end='')\n",
    "    \n",
    "    \n",
    "# 6 GROUP AGGREGATION NUNIQUE\n",
    "\n",
    "def encode_AG2( uids,main_columns, train_df=train, test_df=test):\n",
    "    for main_column in main_columns:  \n",
    "        for col in uids:\n",
    "            comb = pd.concat([train_df[[col]+[main_column]],test_df[[col]+[main_column]]],axis=0)\n",
    "            mp = comb.groupby(col)[main_column].agg(['nunique'])['nunique'].to_dict()\n",
    "            train_df[col+'_'+main_column+'_ct'] = train_df[col].map(mp).astype('float32')\n",
    "            test_df[col+'_'+main_column+'_ct'] = test_df[col].map(mp).astype('float32')\n",
    "            print(col+'_'+main_column+'_ct, ',end='')"
   ]
  },
  {
   "cell_type": "code",
   "execution_count": 21,
   "metadata": {},
   "outputs": [],
   "source": [
    "#encode_LE(train,test,cat_col )"
   ]
  },
  {
   "cell_type": "code",
   "execution_count": 22,
   "metadata": {},
   "outputs": [
    {
     "data": {
      "text/html": [
       "<div>\n",
       "<style scoped>\n",
       "    .dataframe tbody tr th:only-of-type {\n",
       "        vertical-align: middle;\n",
       "    }\n",
       "\n",
       "    .dataframe tbody tr th {\n",
       "        vertical-align: top;\n",
       "    }\n",
       "\n",
       "    .dataframe thead th {\n",
       "        text-align: right;\n",
       "    }\n",
       "</style>\n",
       "<table border=\"1\" class=\"dataframe\">\n",
       "  <thead>\n",
       "    <tr style=\"text-align: right;\">\n",
       "      <th></th>\n",
       "      <th>Won_Championship</th>\n",
       "      <th>Previous_SB_Wins</th>\n",
       "      <th>Number_Of_Wins_This_Season</th>\n",
       "      <th>Number_Of_First_Round_Draft_Picks</th>\n",
       "      <th>Team_Value</th>\n",
       "      <th>Playing_Style</th>\n",
       "      <th>Average_Player_Age</th>\n",
       "      <th>Number_Of_Injured_Players</th>\n",
       "      <th>Coach_Experience_Level</th>\n",
       "      <th>past_cup/current_win</th>\n",
       "      <th>games_left</th>\n",
       "      <th>Round_Draft_class</th>\n",
       "    </tr>\n",
       "  </thead>\n",
       "  <tbody>\n",
       "    <tr>\n",
       "      <td>0</td>\n",
       "      <td>0</td>\n",
       "      <td>3</td>\n",
       "      <td>13</td>\n",
       "      <td>2</td>\n",
       "      <td>Less_Than_Four_Billion</td>\n",
       "      <td>Balanced</td>\n",
       "      <td>27</td>\n",
       "      <td>five</td>\n",
       "      <td>Intermediate</td>\n",
       "      <td>16</td>\n",
       "      <td>19</td>\n",
       "      <td>may_win</td>\n",
       "    </tr>\n",
       "    <tr>\n",
       "      <td>1</td>\n",
       "      <td>0</td>\n",
       "      <td>2</td>\n",
       "      <td>14</td>\n",
       "      <td>2</td>\n",
       "      <td>Less_Than_Four_Billion</td>\n",
       "      <td>Aggressive_Offense</td>\n",
       "      <td>26</td>\n",
       "      <td>five</td>\n",
       "      <td>Intermediate</td>\n",
       "      <td>16</td>\n",
       "      <td>18</td>\n",
       "      <td>may_win</td>\n",
       "    </tr>\n",
       "    <tr>\n",
       "      <td>2</td>\n",
       "      <td>1</td>\n",
       "      <td>2</td>\n",
       "      <td>13</td>\n",
       "      <td>1</td>\n",
       "      <td>Less_Than_Four_Billion</td>\n",
       "      <td>Aggressive_Defense</td>\n",
       "      <td>27</td>\n",
       "      <td>four</td>\n",
       "      <td>Intermediate</td>\n",
       "      <td>15</td>\n",
       "      <td>19</td>\n",
       "      <td>may_win</td>\n",
       "    </tr>\n",
       "    <tr>\n",
       "      <td>3</td>\n",
       "      <td>0</td>\n",
       "      <td>2</td>\n",
       "      <td>12</td>\n",
       "      <td>2</td>\n",
       "      <td>Above_Four_Billion</td>\n",
       "      <td>Balanced</td>\n",
       "      <td>27</td>\n",
       "      <td>six</td>\n",
       "      <td>Intermediate</td>\n",
       "      <td>14</td>\n",
       "      <td>20</td>\n",
       "      <td>may_win</td>\n",
       "    </tr>\n",
       "    <tr>\n",
       "      <td>4</td>\n",
       "      <td>0</td>\n",
       "      <td>1</td>\n",
       "      <td>15</td>\n",
       "      <td>2</td>\n",
       "      <td>Less_Than_Four_Billion</td>\n",
       "      <td>Balanced</td>\n",
       "      <td>26</td>\n",
       "      <td>five</td>\n",
       "      <td>Intermediate</td>\n",
       "      <td>16</td>\n",
       "      <td>17</td>\n",
       "      <td>may_win</td>\n",
       "    </tr>\n",
       "  </tbody>\n",
       "</table>\n",
       "</div>"
      ],
      "text/plain": [
       "   Won_Championship  Previous_SB_Wins  Number_Of_Wins_This_Season  \\\n",
       "0                 0                 3                          13   \n",
       "1                 0                 2                          14   \n",
       "2                 1                 2                          13   \n",
       "3                 0                 2                          12   \n",
       "4                 0                 1                          15   \n",
       "\n",
       "   Number_Of_First_Round_Draft_Picks              Team_Value  \\\n",
       "0                                  2  Less_Than_Four_Billion   \n",
       "1                                  2  Less_Than_Four_Billion   \n",
       "2                                  1  Less_Than_Four_Billion   \n",
       "3                                  2      Above_Four_Billion   \n",
       "4                                  2  Less_Than_Four_Billion   \n",
       "\n",
       "        Playing_Style  Average_Player_Age Number_Of_Injured_Players  \\\n",
       "0            Balanced                  27                      five   \n",
       "1  Aggressive_Offense                  26                      five   \n",
       "2  Aggressive_Defense                  27                      four   \n",
       "3            Balanced                  27                       six   \n",
       "4            Balanced                  26                      five   \n",
       "\n",
       "  Coach_Experience_Level  past_cup/current_win  games_left Round_Draft_class  \n",
       "0           Intermediate                    16          19           may_win  \n",
       "1           Intermediate                    16          18           may_win  \n",
       "2           Intermediate                    15          19           may_win  \n",
       "3           Intermediate                    14          20           may_win  \n",
       "4           Intermediate                    16          17           may_win  "
      ]
     },
     "execution_count": 22,
     "metadata": {},
     "output_type": "execute_result"
    }
   ],
   "source": [
    "train.head()"
   ]
  },
  {
   "cell_type": "code",
   "execution_count": 23,
   "metadata": {},
   "outputs": [],
   "source": [
    "#density plot\n",
    "def kdeplot(feature):\n",
    "    facet =sns.FacetGrid(train, hue='Won_Championship', aspect=5)\n",
    "    facet.map(sns.kdeplot, feature, shade=True)\n",
    "    facet.set(xlim=(train[feature].min() ,train[feature].max()))\n",
    "    facet.add_legend()"
   ]
  },
  {
   "cell_type": "code",
   "execution_count": 24,
   "metadata": {},
   "outputs": [
    {
     "data": {
      "image/png": "[encoded data removed]",
      "text/plain": [
       "<Figure size 1178.38x216 with 1 Axes>"
      ]
     },
     "metadata": {},
     "output_type": "display_data"
    }
   ],
   "source": [
    "kdeplot('Number_Of_Wins_This_Season')"
   ]
  },
  {
   "cell_type": "code",
   "execution_count": 25,
   "metadata": {},
   "outputs": [
    {
     "data": {
      "image/png": "[encoded data removed]",
      "text/plain": [
       "<Figure size 1178.38x216 with 1 Axes>"
      ]
     },
     "metadata": {},
     "output_type": "display_data"
    }
   ],
   "source": [
    "kdeplot('Average_Player_Age')"
   ]
  },
  {
   "cell_type": "code",
   "execution_count": 26,
   "metadata": {},
   "outputs": [
    {
     "data": {
      "text/plain": [
       "Index(['Won_Championship', 'Previous_SB_Wins', 'Number_Of_Wins_This_Season',\n",
       "       'Number_Of_First_Round_Draft_Picks', 'Team_Value', 'Playing_Style',\n",
       "       'Average_Player_Age', 'Number_Of_Injured_Players',\n",
       "       'Coach_Experience_Level', 'past_cup/current_win', 'games_left',\n",
       "       'Round_Draft_class'],\n",
       "      dtype='object')"
      ]
     },
     "execution_count": 26,
     "metadata": {},
     "output_type": "execute_result"
    }
   ],
   "source": [
    "train.columns"
   ]
  },
  {
   "cell_type": "code",
   "execution_count": 27,
   "metadata": {},
   "outputs": [
    {
     "data": {
      "text/plain": [
       "Previous_SB_Wins                      int64\n",
       "Number_Of_Wins_This_Season            int64\n",
       "Number_Of_First_Round_Draft_Picks     int64\n",
       "Team_Value                           object\n",
       "Playing_Style                        object\n",
       "Average_Player_Age                    int64\n",
       "Number_Of_Injured_Players            object\n",
       "Coach_Experience_Level               object\n",
       "past_cup/current_win                  int64\n",
       "games_left                            int64\n",
       "Round_Draft_class                    object\n",
       "dtype: object"
      ]
     },
     "execution_count": 27,
     "metadata": {},
     "output_type": "execute_result"
    }
   ],
   "source": [
    "test.dtypes"
   ]
  },
  {
   "cell_type": "code",
   "execution_count": 28,
   "metadata": {},
   "outputs": [],
   "source": [
    "x=train.drop(['Won_Championship'], axis=1)\n",
    "y=train.Won_Championship\n",
    "from time import time"
   ]
  },
  {
   "cell_type": "code",
   "execution_count": 29,
   "metadata": {},
   "outputs": [
    {
     "data": {
      "text/plain": [
       "Index(['Previous_SB_Wins', 'Number_Of_Wins_This_Season',\n",
       "       'Number_Of_First_Round_Draft_Picks', 'Team_Value', 'Playing_Style',\n",
       "       'Average_Player_Age', 'Number_Of_Injured_Players',\n",
       "       'Coach_Experience_Level', 'past_cup/current_win', 'games_left',\n",
       "       'Round_Draft_class'],\n",
       "      dtype='object')"
      ]
     },
     "execution_count": 29,
     "metadata": {},
     "output_type": "execute_result"
    }
   ],
   "source": [
    "x.columns"
   ]
  },
  {
   "cell_type": "code",
   "execution_count": 30,
   "metadata": {},
   "outputs": [
    {
     "data": {
      "text/html": [
       "<div>\n",
       "<style scoped>\n",
       "    .dataframe tbody tr th:only-of-type {\n",
       "        vertical-align: middle;\n",
       "    }\n",
       "\n",
       "    .dataframe tbody tr th {\n",
       "        vertical-align: top;\n",
       "    }\n",
       "\n",
       "    .dataframe thead th {\n",
       "        text-align: right;\n",
       "    }\n",
       "</style>\n",
       "<table border=\"1\" class=\"dataframe\">\n",
       "  <thead>\n",
       "    <tr style=\"text-align: right;\">\n",
       "      <th></th>\n",
       "      <th>Previous_SB_Wins</th>\n",
       "      <th>Number_Of_Wins_This_Season</th>\n",
       "      <th>Number_Of_First_Round_Draft_Picks</th>\n",
       "      <th>Team_Value</th>\n",
       "      <th>Playing_Style</th>\n",
       "      <th>Average_Player_Age</th>\n",
       "      <th>Number_Of_Injured_Players</th>\n",
       "      <th>Coach_Experience_Level</th>\n",
       "      <th>past_cup/current_win</th>\n",
       "      <th>games_left</th>\n",
       "      <th>Round_Draft_class</th>\n",
       "    </tr>\n",
       "  </thead>\n",
       "  <tbody>\n",
       "    <tr>\n",
       "      <td>0</td>\n",
       "      <td>3</td>\n",
       "      <td>13</td>\n",
       "      <td>2</td>\n",
       "      <td>Less_Than_Four_Billion</td>\n",
       "      <td>Balanced</td>\n",
       "      <td>27</td>\n",
       "      <td>five</td>\n",
       "      <td>Intermediate</td>\n",
       "      <td>16</td>\n",
       "      <td>19</td>\n",
       "      <td>may_win</td>\n",
       "    </tr>\n",
       "    <tr>\n",
       "      <td>1</td>\n",
       "      <td>2</td>\n",
       "      <td>14</td>\n",
       "      <td>2</td>\n",
       "      <td>Less_Than_Four_Billion</td>\n",
       "      <td>Aggressive_Offense</td>\n",
       "      <td>26</td>\n",
       "      <td>five</td>\n",
       "      <td>Intermediate</td>\n",
       "      <td>16</td>\n",
       "      <td>18</td>\n",
       "      <td>may_win</td>\n",
       "    </tr>\n",
       "    <tr>\n",
       "      <td>2</td>\n",
       "      <td>2</td>\n",
       "      <td>13</td>\n",
       "      <td>1</td>\n",
       "      <td>Less_Than_Four_Billion</td>\n",
       "      <td>Aggressive_Defense</td>\n",
       "      <td>27</td>\n",
       "      <td>four</td>\n",
       "      <td>Intermediate</td>\n",
       "      <td>15</td>\n",
       "      <td>19</td>\n",
       "      <td>may_win</td>\n",
       "    </tr>\n",
       "    <tr>\n",
       "      <td>3</td>\n",
       "      <td>2</td>\n",
       "      <td>12</td>\n",
       "      <td>2</td>\n",
       "      <td>Above_Four_Billion</td>\n",
       "      <td>Balanced</td>\n",
       "      <td>27</td>\n",
       "      <td>six</td>\n",
       "      <td>Intermediate</td>\n",
       "      <td>14</td>\n",
       "      <td>20</td>\n",
       "      <td>may_win</td>\n",
       "    </tr>\n",
       "    <tr>\n",
       "      <td>4</td>\n",
       "      <td>1</td>\n",
       "      <td>15</td>\n",
       "      <td>2</td>\n",
       "      <td>Less_Than_Four_Billion</td>\n",
       "      <td>Balanced</td>\n",
       "      <td>26</td>\n",
       "      <td>five</td>\n",
       "      <td>Intermediate</td>\n",
       "      <td>16</td>\n",
       "      <td>17</td>\n",
       "      <td>may_win</td>\n",
       "    </tr>\n",
       "  </tbody>\n",
       "</table>\n",
       "</div>"
      ],
      "text/plain": [
       "   Previous_SB_Wins  Number_Of_Wins_This_Season  \\\n",
       "0                 3                          13   \n",
       "1                 2                          14   \n",
       "2                 2                          13   \n",
       "3                 2                          12   \n",
       "4                 1                          15   \n",
       "\n",
       "   Number_Of_First_Round_Draft_Picks              Team_Value  \\\n",
       "0                                  2  Less_Than_Four_Billion   \n",
       "1                                  2  Less_Than_Four_Billion   \n",
       "2                                  1  Less_Than_Four_Billion   \n",
       "3                                  2      Above_Four_Billion   \n",
       "4                                  2  Less_Than_Four_Billion   \n",
       "\n",
       "        Playing_Style  Average_Player_Age Number_Of_Injured_Players  \\\n",
       "0            Balanced                  27                      five   \n",
       "1  Aggressive_Offense                  26                      five   \n",
       "2  Aggressive_Defense                  27                      four   \n",
       "3            Balanced                  27                       six   \n",
       "4            Balanced                  26                      five   \n",
       "\n",
       "  Coach_Experience_Level  past_cup/current_win  games_left Round_Draft_class  \n",
       "0           Intermediate                    16          19           may_win  \n",
       "1           Intermediate                    16          18           may_win  \n",
       "2           Intermediate                    15          19           may_win  \n",
       "3           Intermediate                    14          20           may_win  \n",
       "4           Intermediate                    16          17           may_win  "
      ]
     },
     "execution_count": 30,
     "metadata": {},
     "output_type": "execute_result"
    }
   ],
   "source": [
    "x.head()"
   ]
  },
  {
   "cell_type": "code",
   "execution_count": 31,
   "metadata": {},
   "outputs": [],
   "source": [
    "from catboost import Pool, CatBoostClassifier, cv"
   ]
  },
  {
   "cell_type": "code",
   "execution_count": 32,
   "metadata": {},
   "outputs": [
    {
     "data": {
      "text/plain": [
       "array([ 0,  1,  2,  3,  4,  5,  6,  7,  8,  9, 10], dtype=int64)"
      ]
     },
     "execution_count": 32,
     "metadata": {},
     "output_type": "execute_result"
    }
   ],
   "source": [
    "cate_features_index=np.where(x.dtypes != float) [0]; cate_features_index"
   ]
  },
  {
   "cell_type": "code",
   "execution_count": 35,
   "metadata": {},
   "outputs": [
    {
     "name": "stdout",
     "output_type": "stream",
     "text": [
      "0:\tlearn: 0.5475487\ttest: 0.5485681\ttest1: 0.5322487\tbest: 0.5322487 (0)\ttotal: 203ms\tremaining: 5m 4s\n",
      "100:\tlearn: 0.7677100\ttest: 0.7672866\ttest1: 0.7453416\tbest: 0.7471591 (76)\ttotal: 2.89s\tremaining: 40s\n",
      "200:\tlearn: 0.7792941\ttest: 0.7720207\ttest1: 0.7525968\tbest: 0.7525968 (200)\ttotal: 5.77s\tremaining: 37.3s\n",
      "300:\tlearn: 0.7869698\ttest: 0.7739822\ttest1: 0.7543285\tbest: 0.7553041 (260)\ttotal: 9.34s\tremaining: 37.2s\n",
      "Stopped by overfitting detector  (100 iterations wait)\n",
      "\n",
      "bestTest = 0.7553041018\n",
      "bestIteration = 260\n",
      "\n",
      "Shrink model to first 261 iterations.\n",
      "err:  0.7553041018387553\n",
      "0:\tlearn: 0.5464673\ttest: 0.5467331\ttest1: 0.5365566\tbest: 0.5365566 (0)\ttotal: 37.5ms\tremaining: 56.2s\n",
      "100:\tlearn: 0.7615439\ttest: 0.7684162\ttest1: 0.7676768\tbest: 0.7679634 (53)\ttotal: 2.5s\tremaining: 34.7s\n",
      "200:\tlearn: 0.7722866\ttest: 0.7724868\ttest1: 0.7680294\tbest: 0.7699358 (152)\ttotal: 5.83s\tremaining: 37.7s\n",
      "Stopped by overfitting detector  (100 iterations wait)\n",
      "\n",
      "bestTest = 0.7699358387\n",
      "bestIteration = 152\n",
      "\n",
      "Shrink model to first 153 iterations.\n",
      "err:  0.76993583868011\n",
      "0:\tlearn: 0.5299647\ttest: 0.5348157\ttest1: 0.5606150\tbest: 0.5606150 (0)\ttotal: 17.4ms\tremaining: 26.1s\n",
      "100:\tlearn: 0.7625202\ttest: 0.7778027\ttest1: 0.7700535\tbest: 0.7704698 (60)\ttotal: 2.79s\tremaining: 38.6s\n",
      "200:\tlearn: 0.7787774\ttest: 0.7824514\ttest1: 0.7729120\tbest: 0.7742806 (129)\ttotal: 6.45s\tremaining: 41.7s\n",
      "Stopped by overfitting detector  (100 iterations wait)\n",
      "\n",
      "bestTest = 0.7742805755\n",
      "bestIteration = 129\n",
      "\n",
      "Shrink model to first 130 iterations.\n",
      "err:  0.7742805755395684\n"
     ]
    }
   ],
   "source": [
    "from sklearn.metrics import accuracy_score,confusion_matrix,f1_score\n",
    "errcb=[]\n",
    "y_pred_totcb=[]\n",
    "\n",
    "from sklearn.model_selection import KFold,StratifiedKFold, TimeSeriesSplit, GroupKFold\n",
    "fold=KFold(n_splits=3, shuffle=True,random_state=99)\n",
    "i=1\n",
    "\n",
    "for train_index, test_index in fold.split(x,y):\n",
    "    X_train, X_test = x.iloc[train_index], x.iloc[test_index]\n",
    "    y_train, y_test = y[train_index], y[test_index]\n",
    "\n",
    "    m=CatBoostClassifier(iterations =1500, depth=8, learning_rate=0.07,eval_metric ='F1', use_best_model=True)\n",
    "    m.fit(X_train,y_train,cate_features_index,eval_set=[(X_train,y_train),(X_test, y_test)], early_stopping_rounds=100,verbose=100)\n",
    "    preds=m.predict(X_test)\n",
    "    \n",
    "    print(\"err: \",f1_score(y_test,preds))\n",
    "    errcb.append(f1_score(y_test,preds))\n",
    "    p = m.predict(test)\n",
    "    y_pred_totcb.append(p)"
   ]
  },
  {
   "cell_type": "code",
   "execution_count": 36,
   "metadata": {},
   "outputs": [],
   "source": [
    "pred =np.mean(y_pred_totcb,0)"
   ]
  },
  {
   "cell_type": "code",
   "execution_count": 37,
   "metadata": {},
   "outputs": [],
   "source": [
    "testx =pd.read_csv('test.csv')"
   ]
  },
  {
   "cell_type": "code",
   "execution_count": 38,
   "metadata": {},
   "outputs": [],
   "source": [
    "xfinal =pd.DataFrame({'ID': testx['ID']})\n",
    "yfinal = pd.DataFrame ({'Won_Championship' :pred})"
   ]
  },
  {
   "cell_type": "code",
   "execution_count": 39,
   "metadata": {},
   "outputs": [
    {
     "data": {
      "text/plain": [
       "0.000000    1623\n",
       "1.000000    1611\n",
       "0.333333     151\n",
       "0.666667     115\n",
       "Name: Won_Championship, dtype: int64"
      ]
     },
     "execution_count": 39,
     "metadata": {},
     "output_type": "execute_result"
    }
   ],
   "source": [
    "yfinal['Won_Championship'].value_counts()"
   ]
  },
  {
   "cell_type": "code",
   "execution_count": 40,
   "metadata": {},
   "outputs": [],
   "source": [
    "submission =pd.concat([xfinal, yfinal], axis ='columns')"
   ]
  },
  {
   "cell_type": "code",
   "execution_count": 41,
   "metadata": {},
   "outputs": [],
   "source": [
    "def threshold(x):\n",
    "    if x >= 0.24:\n",
    "        return 1\n",
    "    else:\n",
    "        return 0\n",
    "submission['Won_Championship'] = submission['Won_Championship'].apply(threshold)\n",
    "newxy =submission[['Won_Championship','Won_Championship']]"
   ]
  },
  {
   "cell_type": "code",
   "execution_count": 42,
   "metadata": {},
   "outputs": [
    {
     "data": {
      "text/plain": [
       "1    1877\n",
       "0    1623\n",
       "Name: Won_Championship, dtype: int64"
      ]
     },
     "execution_count": 42,
     "metadata": {},
     "output_type": "execute_result"
    }
   ],
   "source": [
    "submission['Won_Championship'].value_counts()"
   ]
  },
  {
   "cell_type": "code",
   "execution_count": 43,
   "metadata": {},
   "outputs": [],
   "source": [
    "submission.to_csv('20j.csv', index =False)#submit 20j kfold work if no improvement remove learning rate"
   ]
  },
  {
   "cell_type": "code",
   "execution_count": 44,
   "metadata": {
    "scrolled": true
   },
   "outputs": [
    {
     "data": {
      "image/png": "[encoded data removed]",
      "text/plain": [
       "<Figure size 1440x720 with 1 Axes>"
      ]
     },
     "metadata": {},
     "output_type": "display_data"
    }
   ],
   "source": [
    "fea_imp = pd.DataFrame({'imp':m.feature_importances_, 'col': x.columns})\n",
    "fea_imp = fea_imp.sort_values(['imp', 'col'], ascending=[True, False]).iloc[-30:]\n",
    "_ = fea_imp.plot(kind='barh', x='col', y='imp', figsize=(20, 10))\n",
    "#plt.savefig('catboost_feature_importance.png')  "
   ]
  }
 ],
 "metadata": {
  "kernelspec": {
   "display_name": "Python 3",
   "language": "python",
   "name": "python3"
  },
  "language_info": {
   "codemirror_mode": {
    "name": "ipython",
    "version": 3
   },
   "file_extension": ".py",
   "mimetype": "text/x-python",
   "name": "python",
   "nbconvert_exporter": "python",
   "pygments_lexer": "ipython3",
   "version": "3.7.4"
  }
 },
 "nbformat": 4,
 "nbformat_minor": 4
}
